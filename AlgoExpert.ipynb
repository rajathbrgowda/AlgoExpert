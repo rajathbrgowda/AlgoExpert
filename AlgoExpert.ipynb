{
  "nbformat": 4,
  "nbformat_minor": 0,
  "metadata": {
    "colab": {
      "name": "AlgoExpert",
      "provenance": [],
      "authorship_tag": "ABX9TyMwCnyZ6oyXlF5DohlUNdWg",
      "include_colab_link": true
    },
    "kernelspec": {
      "name": "python3",
      "display_name": "Python 3"
    },
    "language_info": {
      "name": "python"
    }
  },
  "cells": [
    {
      "cell_type": "markdown",
      "metadata": {
        "id": "view-in-github",
        "colab_type": "text"
      },
      "source": [
        "<a href=\"https://colab.research.google.com/github/rajathbrgowda/AlgoExpert/blob/main/AlgoExpert.ipynb\" target=\"_parent\"><img src=\"https://colab.research.google.com/assets/colab-badge.svg\" alt=\"Open In Colab\"/></a>"
      ]
    },
    {
      "cell_type": "markdown",
      "source": [
        "**Validate subsequence**"
      ],
      "metadata": {
        "id": "xJYXtMk1N8p4"
      }
    },
    {
      "cell_type": "code",
      "source": [
        "array=[5,1,22,25,6,-1,8,10];\n",
        "sequence=[1,6,-1,10];\n",
        "def isValidSubsequence(array, sequence):\n",
        "\tseqIndex=0\n",
        "\tfor value in array:\n",
        "\t\tif seqIndex==len(sequence):\n",
        "\t\t\tbreak\n",
        "\t\tif sequence[seqIndex]==value:\n",
        "\t\t\tseqIndex+=1\n",
        "\treturn seqIndex==len(sequence)\n",
        "\n",
        "print(isValidSubsequence(array, sequence))\n"
      ],
      "metadata": {
        "colab": {
          "base_uri": "https://localhost:8080/"
        },
        "id": "hNmlT9IvN6a0",
        "outputId": "9669cfa1-b42a-4000-dab2-ae7e5325f605"
      },
      "execution_count": null,
      "outputs": [
        {
          "output_type": "stream",
          "name": "stdout",
          "text": [
            "True\n"
          ]
        }
      ]
    },
    {
      "cell_type": "markdown",
      "source": [
        "**Squared sorted array**"
      ],
      "metadata": {
        "id": "_3Q0lQoRN_z-"
      }
    },
    {
      "cell_type": "code",
      "execution_count": null,
      "metadata": {
        "colab": {
          "base_uri": "https://localhost:8080/"
        },
        "id": "5aKNqmSmMs_v",
        "outputId": "6a3df7dc-76b8-49c4-a19d-685f08aa571e"
      },
      "outputs": [
        {
          "output_type": "stream",
          "name": "stdout",
          "text": [
            "[25, 1, 484, 625, 36, 1, 64, 100]\n"
          ]
        }
      ],
      "source": [
        "array=[5,1,22,25,6,-1,8,10];\n",
        "\n",
        "def sortedSquaredArray(array):\n",
        "    # Write your code here.\n",
        "\tfor i in range(len(array)):\n",
        "\t\tarray[i]=array[i]**2\n",
        "\treturn array\n",
        "\n",
        "sortedSquaredArray(array)\n",
        "print(array)\n"
      ]
    }
  ]
}