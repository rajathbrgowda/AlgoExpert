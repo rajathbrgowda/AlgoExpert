{
  "nbformat": 4,
  "nbformat_minor": 0,
  "metadata": {
    "colab": {
      "name": "AlgoExpert",
      "provenance": [],
      "authorship_tag": "ABX9TyO1ewOb0PFj3FL3WCTeH2xZ",
      "include_colab_link": true
    },
    "kernelspec": {
      "name": "python3",
      "display_name": "Python 3"
    },
    "language_info": {
      "name": "python"
    }
  },
  "cells": [
    {
      "cell_type": "markdown",
      "metadata": {
        "id": "view-in-github",
        "colab_type": "text"
      },
      "source": [
        "<a href=\"https://colab.research.google.com/github/rajathbrgowda/AlgoExpert/blob/main/AlgoExpert.ipynb\" target=\"_parent\"><img src=\"https://colab.research.google.com/assets/colab-badge.svg\" alt=\"Open In Colab\"/></a>"
      ]
    },
    {
      "cell_type": "code",
      "execution_count": null,
      "metadata": {
        "id": "5aKNqmSmMs_v",
        "outputId": "6a3df7dc-76b8-49c4-a19d-685f08aa571e",
        "colab": {
          "base_uri": "https://localhost:8080/"
        }
      },
      "outputs": [
        {
          "output_type": "stream",
          "name": "stdout",
          "text": [
            "[25, 1, 484, 625, 36, 1, 64, 100]\n"
          ]
        }
      ],
      "source": [
        "array=[5,1,22,25,6,-1,8,10];\n",
        "\n",
        "def sortedSquaredArray(array):\n",
        "    # Write your code here.\n",
        "\tfor i in range(len(array)):\n",
        "\t\tarray[i]=array[i]**2\n",
        "\treturn array\n",
        "\n",
        "sortedSquaredArray(array)\n",
        "print(array)\n"
      ]
    }
  ]
}